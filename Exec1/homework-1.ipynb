{
 "cells": [
  {
   "cell_type": "code",
   "execution_count": 2,
   "id": "fa7497c6-8e88-4490-98b9-be77b58a8458",
   "metadata": {},
   "outputs": [
    {
     "name": "stdout",
     "output_type": "stream",
     "text": [
      "Requirement already satisfied: nltk in ./.local/lib/python3.11/site-packages (3.9.1)\n",
      "Requirement already satisfied: click in ./.local/lib/python3.11/site-packages (from nltk) (8.1.8)\n",
      "Requirement already satisfied: joblib in ./.local/lib/python3.11/site-packages (from nltk) (1.4.2)\n",
      "Requirement already satisfied: regex>=2021.8.3 in ./.local/lib/python3.11/site-packages (from nltk) (2024.11.6)\n",
      "Requirement already satisfied: tqdm in /opt/conda/lib/python3.11/site-packages (from nltk) (4.66.1)\n",
      "Requirement already satisfied: lxml in ./.local/lib/python3.11/site-packages (5.3.1)\n",
      "Requirement already satisfied: gensim in ./.local/lib/python3.11/site-packages (4.3.3)\n",
      "Requirement already satisfied: numpy<2.0,>=1.18.5 in ./.local/lib/python3.11/site-packages (from gensim) (1.26.4)\n",
      "Requirement already satisfied: scipy<1.14.0,>=1.7.0 in ./.local/lib/python3.11/site-packages (from gensim) (1.13.1)\n",
      "Requirement already satisfied: smart-open>=1.8.1 in ./.local/lib/python3.11/site-packages (from gensim) (7.1.0)\n",
      "Requirement already satisfied: wrapt in ./.local/lib/python3.11/site-packages (from smart-open>=1.8.1->gensim) (1.17.2)\n"
     ]
    }
   ],
   "source": [
    "!pip install nltk\n",
    "!pip install lxml\n",
    "!pip install gensim"
   ]
  },
  {
   "cell_type": "code",
   "execution_count": 3,
   "id": "e3a759b7-44cf-4aeb-b41e-b8cf25ac6231",
   "metadata": {},
   "outputs": [
    {
     "name": "stderr",
     "output_type": "stream",
     "text": [
      "[nltk_data] Downloading package punkt to /home/jovyan/nltk_data...\n",
      "[nltk_data]   Package punkt is already up-to-date!\n",
      "[nltk_data] Downloading package punkt_tab to /home/jovyan/nltk_data...\n",
      "[nltk_data]   Package punkt_tab is already up-to-date!\n"
     ]
    },
    {
     "data": {
      "text/plain": [
       "True"
      ]
     },
     "execution_count": 3,
     "metadata": {},
     "output_type": "execute_result"
    }
   ],
   "source": [
    "import nltk\n",
    "nltk.download('punkt')\n",
    "nltk.download('punkt_tab')"
   ]
  },
  {
   "cell_type": "code",
   "execution_count": 4,
   "id": "1bc5f636-f3b0-48c6-9320-a08c2bbcaf65",
   "metadata": {},
   "outputs": [],
   "source": [
    "import re\n",
    "import urllib.request\n",
    "import zipfile\n",
    "from lxml import etree\n",
    "from nltk.tokenize import word_tokenize, sent_tokenize"
   ]
  },
  {
   "cell_type": "code",
   "execution_count": 5,
   "id": "e74f1d57-a4c8-4318-a246-82ffd28b633e",
   "metadata": {},
   "outputs": [
    {
     "data": {
      "text/plain": [
       "('ted_en-20160408.xml', <http.client.HTTPMessage at 0x7f02cf96e250>)"
      ]
     },
     "execution_count": 5,
     "metadata": {},
     "output_type": "execute_result"
    }
   ],
   "source": [
    "urllib.request.urlretrieve(\"https://hyds-dlma-2025-1.s3.ap-northeast-2.amazonaws.com/prac1/ted_en-20160408.xml\", filename=\"ted_en-20160408.xml\")"
   ]
  },
  {
   "cell_type": "code",
   "execution_count": 6,
   "id": "280b79c8-3fc0-4406-90ae-6cf6302fe608",
   "metadata": {},
   "outputs": [],
   "source": [
    "# Open the XML file in read mode with UTF-8 encoding.\n",
    "targetXML = open('ted_en-20160408.xml', 'r',encoding='UTF8')\n",
    "target_text = etree.parse(targetXML)\n",
    "# Extract the content between <content> and </content> tags from the XML file.\n",
    "\n",
    "parse_text = '\\n'.join(target_text.xpath('//content/text()'))\n",
    "                                         \n",
    "# Remove background sounds such as (Audio), (Laughter), etc., appearing within the content\n",
    "# using the sub module of the regular expression.\n",
    "# This code removes text enclosed in parentheses.\n",
    "\n",
    "content_text = re.sub(r'\\([^)]*\\)', '', parse_text)"
   ]
  },
  {
   "cell_type": "code",
   "execution_count": 7,
   "id": "cc4b1443-4ffe-49c2-86f3-914fbf3f46f5",
   "metadata": {},
   "outputs": [],
   "source": [
    "# Perform sentence tokenization on the input corpus using NLTK.\n",
    "sent_text = sent_tokenize(content_text)\n",
    "# For each sentence, remove punctuation and convert uppercase letters to lowercase.\n",
    "normalized_text = []\n",
    "for string in sent_text:\n",
    "    tokens = re.sub(r\"[^a-z0-9]+\", \" \", string.lower())\n",
    "    normalized_text.append(tokens)\n",
    "# Perform word tokenization on each sentence using NLTK.\n",
    "result = [word_tokenize(sentence) for sentence in normalized_text]"
   ]
  },
  {
   "cell_type": "code",
   "execution_count": 8,
   "id": "e355e795-04b7-4c60-a01d-f0e1ac8f4ba7",
   "metadata": {},
   "outputs": [
    {
     "name": "stdout",
     "output_type": "stream",
     "text": [
      "Total Sample : 273424\n"
     ]
    }
   ],
   "source": [
    "print(f'Total Sample : {len(result)}')"
   ]
  },
  {
   "cell_type": "code",
   "execution_count": 9,
   "id": "2b471ada-2141-44c6-b2ac-30dd232a7e16",
   "metadata": {
    "scrolled": true
   },
   "outputs": [
    {
     "name": "stdout",
     "output_type": "stream",
     "text": [
      "['here', 'are', 'two', 'reasons', 'companies', 'fail', 'they', 'only', 'do', 'more', 'of', 'the', 'same', 'or', 'they', 'only', 'do', 'what', 's', 'new']\n",
      "['to', 'me', 'the', 'real', 'real', 'solution', 'to', 'quality', 'growth', 'is', 'figuring', 'out', 'the', 'balance', 'between', 'two', 'activities', 'exploration', 'and', 'exploitation']\n",
      "['both', 'are', 'necessary', 'but', 'it', 'can', 'be', 'too', 'much', 'of', 'a', 'good', 'thing']\n"
     ]
    }
   ],
   "source": [
    "# Print 3 samples\n",
    "for line in result[:3]:\n",
    "    print(line)"
   ]
  },
  {
   "cell_type": "code",
   "execution_count": 10,
   "id": "e885a628-f7ae-4860-92a0-88f06de98940",
   "metadata": {},
   "outputs": [],
   "source": [
    "from gensim.models import Word2Vec\n",
    "from gensim.models import KeyedVectors\n",
    "model = Word2Vec(sentences=result, vector_size=300, window=5, min_count=5, workers=4, sg=0) #changed vector size from 100 to 300"
   ]
  },
  {
   "cell_type": "code",
   "execution_count": 11,
   "id": "cc5884ba-6eb1-49ae-b7de-b055106eee9f",
   "metadata": {},
   "outputs": [
    {
     "name": "stdout",
     "output_type": "stream",
     "text": [
      "[('woman', 0.8531107306480408), ('guy', 0.8094989657402039), ('lady', 0.7606065273284912), ('boy', 0.7420725226402283), ('girl', 0.7399805784225464), ('gentleman', 0.710263729095459), ('soldier', 0.6845044493675232), ('poet', 0.6662186980247498), ('kid', 0.6658803820610046), ('friend', 0.6401036381721497)]\n"
     ]
    }
   ],
   "source": [
    "model_result = model.wv.most_similar(\"man\")\n",
    "print(model_result)"
   ]
  },
  {
   "cell_type": "code",
   "execution_count": 12,
   "id": "7f2fd360-8b58-436e-a3ab-fc1ad356635f",
   "metadata": {},
   "outputs": [
    {
     "name": "stdout",
     "output_type": "stream",
     "text": [
      "[('woman', 0.8531107306480408), ('guy', 0.8094989657402039), ('lady', 0.7606065273284912), ('boy', 0.7420725226402283), ('girl', 0.7399805784225464), ('gentleman', 0.710263729095459), ('soldier', 0.6845044493675232), ('poet', 0.6662186980247498), ('kid', 0.6658803820610046), ('friend', 0.6401036381721497)]\n"
     ]
    }
   ],
   "source": [
    "model.wv.save_word2vec_format('eng_w2v')\n",
    "loaded_model = KeyedVectors.load_word2vec_format(\"eng_w2v\")\n",
    "model_result = loaded_model.most_similar(\"man\")\n",
    "print(model_result)"
   ]
  },
  {
   "cell_type": "code",
   "execution_count": 13,
   "id": "ffc579da-6c16-4f5e-80b4-70944bd0b88c",
   "metadata": {},
   "outputs": [
    {
     "data": {
      "text/plain": [
       "('GoogleNews-vectors-negative300.bin.gz',\n",
       " <http.client.HTTPMessage at 0x7f02b0906bd0>)"
      ]
     },
     "execution_count": 13,
     "metadata": {},
     "output_type": "execute_result"
    }
   ],
   "source": [
    "import gensim\n",
    "import urllib.request\n",
    "urllib.request.urlretrieve(\"https://hyds-dlma-2025-1.s3.ap-northeast-2.amazonaws.com/prac1/GoogleNews-vectors-negative300.bin.gz\", \n",
    "                           filename=\"GoogleNews-vectors-negative300.bin.gz\")"
   ]
  },
  {
   "cell_type": "code",
   "execution_count": 14,
   "id": "a875c6be-4b9e-4452-83d9-db4ef22ce08e",
   "metadata": {},
   "outputs": [],
   "source": [
    "word2vec_model = gensim.models.KeyedVectors.load_word2vec_format(\"GoogleNews-vectors-negative300.bin.gz\", binary=True)"
   ]
  },
  {
   "cell_type": "code",
   "execution_count": 15,
   "id": "f7426dbb-92f5-48a8-9e42-ace8f9825787",
   "metadata": {},
   "outputs": [
    {
     "name": "stdout",
     "output_type": "stream",
     "text": [
      "(3000000, 300)\n"
     ]
    }
   ],
   "source": [
    "print(word2vec_model.vectors.shape)"
   ]
  },
  {
   "cell_type": "code",
   "execution_count": 16,
   "id": "23b4bce8-59b8-4e4c-8ca6-f628a086171b",
   "metadata": {},
   "outputs": [
    {
     "name": "stdout",
     "output_type": "stream",
     "text": [
      "0.40797037\n",
      "0.057204384\n",
      "0.65489846\n"
     ]
    }
   ],
   "source": [
    "print(word2vec_model.similarity('this', 'is'))\n",
    "print(word2vec_model.similarity('post', 'book'))\n",
    "print(word2vec_model.similarity('hi', 'hello'))"
   ]
  },
  {
   "cell_type": "code",
   "execution_count": 17,
   "id": "bdd6008d-d7e6-4176-9297-5e0c61883b4a",
   "metadata": {},
   "outputs": [
    {
     "name": "stdout",
     "output_type": "stream",
     "text": [
      "Requirement already satisfied: scikit-learn in ./.local/lib/python3.11/site-packages (1.6.1)\n",
      "Requirement already satisfied: numpy>=1.19.5 in ./.local/lib/python3.11/site-packages (from scikit-learn) (1.26.4)\n",
      "Requirement already satisfied: scipy>=1.6.0 in ./.local/lib/python3.11/site-packages (from scikit-learn) (1.13.1)\n",
      "Requirement already satisfied: joblib>=1.2.0 in ./.local/lib/python3.11/site-packages (from scikit-learn) (1.4.2)\n",
      "Requirement already satisfied: threadpoolctl>=3.1.0 in ./.local/lib/python3.11/site-packages (from scikit-learn) (3.6.0)\n",
      "Requirement already satisfied: matplotlib in ./.local/lib/python3.11/site-packages (3.10.1)\n",
      "Requirement already satisfied: contourpy>=1.0.1 in ./.local/lib/python3.11/site-packages (from matplotlib) (1.3.1)\n",
      "Requirement already satisfied: cycler>=0.10 in ./.local/lib/python3.11/site-packages (from matplotlib) (0.12.1)\n",
      "Requirement already satisfied: fonttools>=4.22.0 in ./.local/lib/python3.11/site-packages (from matplotlib) (4.56.0)\n",
      "Requirement already satisfied: kiwisolver>=1.3.1 in ./.local/lib/python3.11/site-packages (from matplotlib) (1.4.8)\n",
      "Requirement already satisfied: numpy>=1.23 in ./.local/lib/python3.11/site-packages (from matplotlib) (1.26.4)\n",
      "Requirement already satisfied: packaging>=20.0 in /opt/conda/lib/python3.11/site-packages (from matplotlib) (23.2)\n",
      "Requirement already satisfied: pillow>=8 in ./.local/lib/python3.11/site-packages (from matplotlib) (11.1.0)\n",
      "Requirement already satisfied: pyparsing>=2.3.1 in ./.local/lib/python3.11/site-packages (from matplotlib) (3.2.3)\n",
      "Requirement already satisfied: python-dateutil>=2.7 in /opt/conda/lib/python3.11/site-packages (from matplotlib) (2.8.2)\n",
      "Requirement already satisfied: six>=1.5 in /opt/conda/lib/python3.11/site-packages (from python-dateutil>=2.7->matplotlib) (1.16.0)\n"
     ]
    }
   ],
   "source": [
    "!pip install -U scikit-learn\n",
    "!pip install -U matplotlib\n",
    "import numpy as np\n",
    "from sklearn.manifold import TSNE\n",
    "import matplotlib.pyplot as plt"
   ]
  },
  {
   "cell_type": "code",
   "execution_count": 18,
   "id": "32aee771-19a8-4d68-9aac-573ab290271a",
   "metadata": {},
   "outputs": [],
   "source": [
    "#a list of 20 words\n",
    "words = ['man', 'woman', 'king', 'queen', 'apple', 'orange', 'car', 'bus', 'book', 'pen',\n",
    "         'dog', 'cat', 'happy', 'sad', 'run', 'walk', 'big', 'small', 'fast', 'slow']"
   ]
  },
  {
   "cell_type": "code",
   "execution_count": 19,
   "id": "7ee46ef0-0185-4bad-93fe-9cd873fd3e05",
   "metadata": {},
   "outputs": [],
   "source": [
    "#Extracting word vectors from both models\n",
    "trained_vectors = []\n",
    "pretrained_vectors = []"
   ]
  },
  {
   "cell_type": "code",
   "execution_count": 20,
   "id": "d8c9662b-236d-4a65-8bb6-ac33ad3bc869",
   "metadata": {},
   "outputs": [],
   "source": [
    "for word in words:\n",
    "    if word in model.wv and word in word2vec_model:\n",
    "        trained_vectors.append(model.wv[word])  # vectors from my trained model\n",
    "        pretrained_vectors.append(word2vec_model[word])  # vectors from Google News model\n",
    "\n",
    "# Combining both vectors for t-SNE\n",
    "combined_vectors = np.vstack([trained_vectors, pretrained_vectors])"
   ]
  },
  {
   "cell_type": "code",
   "execution_count": 31,
   "id": "67a4f330-443a-4b68-8efd-170e7bffd0f1",
   "metadata": {},
   "outputs": [],
   "source": [
    "#Applying t-SNE\n",
    "tsne = TSNE(n_components=2, random_state=42, perplexity=6)\n",
    "reduced_vectors = tsne.fit_transform(combined_vectors)"
   ]
  },
  {
   "cell_type": "code",
   "execution_count": 32,
   "id": "99206628-eac2-4be8-8d15-97bab88c077e",
   "metadata": {},
   "outputs": [
    {
     "data": {
      "image/png": "[encoded data removed]",
      "text/plain": [
       "<Figure size 1200x800 with 1 Axes>"
      ]
     },
     "metadata": {},
     "output_type": "display_data"
    }
   ],
   "source": [
    "#Visualisation\n",
    "plt.figure(figsize=(12, 8))\n",
    "\n",
    "# plotting trained model vectors\n",
    "for i, word in enumerate(words):\n",
    "    plt.scatter(reduced_vectors[i, 0], reduced_vectors[i, 1], color='blue', label='Trained Model' if i == 0 else \"\")\n",
    "    plt.text(reduced_vectors[i, 0] + 0.1, reduced_vectors[i, 1], word, fontsize=9, color='blue')\n",
    "\n",
    "# plotting pre-trained model vectors\n",
    "for i, word in enumerate(words):\n",
    "    plt.scatter(reduced_vectors[i + len(words), 0], reduced_vectors[i + len(words), 1], color='red', label='Pre-trained Model' if i == 0 else \"\")\n",
    "    plt.text(reduced_vectors[i + len(words), 0] + 0.1, reduced_vectors[i + len(words), 1], word, fontsize=9, color='red')\n",
    "\n",
    "plt.title(\"t-SNE Visualization\")\n",
    "plt.legend()\n",
    "plt.show()"
   ]
  },
  {
   "cell_type": "code",
   "execution_count": 33,
   "id": "9c8fb321-9d37-4ea7-a6db-d04603c93d19",
   "metadata": {},
   "outputs": [
    {
     "name": "stdout",
     "output_type": "stream",
     "text": [
      "'flabbergasted' not found in vocabulary.\n"
     ]
    }
   ],
   "source": [
    "#Checking for an unknown word\n",
    "word = \"flabbergasted\"  \n",
    "\n",
    "if word in model.wv:\n",
    "    print(f\"Vector for '{word}': {model.wv[word]}\")\n",
    "else:\n",
    "    print(f\"'{word}' not found in vocabulary.\")"
   ]
  },
  {
   "cell_type": "code",
   "execution_count": null,
   "id": "7f54f21a-ea5d-4a7f-b5d8-edffddc3d2be",
   "metadata": {},
   "outputs": [],
   "source": []
  }
 ],
 "metadata": {
  "kernelspec": {
   "display_name": "Python 3 (ipykernel)",
   "language": "python",
   "name": "python3"
  },
  "language_info": {
   "codemirror_mode": {
    "name": "ipython",
    "version": 3
   },
   "file_extension": ".py",
   "mimetype": "text/x-python",
   "name": "python",
   "nbconvert_exporter": "python",
   "pygments_lexer": "ipython3",
   "version": "3.11.6"
  }
 },
 "nbformat": 4,
 "nbformat_minor": 5
}
